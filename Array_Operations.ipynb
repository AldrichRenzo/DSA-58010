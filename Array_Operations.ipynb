{
  "nbformat": 4,
  "nbformat_minor": 0,
  "metadata": {
    "colab": {
      "provenance": [],
      "collapsed_sections": [],
      "authorship_tag": "ABX9TyPdlQeUZuoHYmolVsGNGD8L",
      "include_colab_link": true
    },
    "kernelspec": {
      "name": "python3",
      "display_name": "Python 3"
    },
    "language_info": {
      "name": "python"
    }
  },
  "cells": [
    {
      "cell_type": "markdown",
      "metadata": {
        "id": "view-in-github",
        "colab_type": "text"
      },
      "source": [
        "<a href=\"https://colab.research.google.com/github/AldrichRenzoBelen/DSA-58010/blob/main/Array_Operations.ipynb\" target=\"_parent\"><img src=\"https://colab.research.google.com/assets/colab-badge.svg\" alt=\"Open In Colab\"/></a>"
      ]
    },
    {
      "cell_type": "code",
      "execution_count": 1,
      "metadata": {
        "colab": {
          "base_uri": "https://localhost:8080/"
        },
        "id": "Unj5JuK4qAJJ",
        "outputId": "8b53f41d-d55b-4d0c-cb6b-6b3f78174601"
      },
      "outputs": [
        {
          "output_type": "stream",
          "name": "stdout",
          "text": [
            "[1, 2, 3]\n"
          ]
        }
      ],
      "source": [
        "#creating an arrey of number elements \n",
        "\n",
        "\n",
        "num = [1,2,3] #3x3 matrix\n",
        "print(num)"
      ]
    },
    {
      "cell_type": "code",
      "source": [
        "#looping\n",
        "animals = [\"dog\",\"cat\",\"fish\"] #3x3 matrix\n",
        "for x in animals:\n",
        "    print(x)"
      ],
      "metadata": {
        "colab": {
          "base_uri": "https://localhost:8080/"
        },
        "id": "7W-0eACfqCQH",
        "outputId": "7409ef6b-dabe-4d78-ea9c-c7505044851d"
      },
      "execution_count": 2,
      "outputs": [
        {
          "output_type": "stream",
          "name": "stdout",
          "text": [
            "dog\n",
            "cat\n",
            "fish\n"
          ]
        }
      ]
    },
    {
      "cell_type": "code",
      "source": [
        "#looping breaking\n",
        "animals = [\"dog\",\"cat\",\"fish\"] #3x3 matrix\n",
        "for x in animals:\n",
        "  print(x)\n",
        "  if x==\"cat\":\n",
        "    break"
      ],
      "metadata": {
        "colab": {
          "base_uri": "https://localhost:8080/"
        },
        "id": "NdJTYl9MqFqi",
        "outputId": "74ba1bb2-cd96-4b06-a5ee-a6ac90ffd13b"
      },
      "execution_count": 3,
      "outputs": [
        {
          "output_type": "stream",
          "name": "stdout",
          "text": [
            "dog\n",
            "cat\n"
          ]
        }
      ]
    },
    {
      "cell_type": "code",
      "source": [
        "animals = [\"dog\",\"cat\",\"fish\"]\n",
        "x=animals [2]\n",
        "y=animals [1]\n",
        "print(x)\n",
        "print(y)"
      ],
      "metadata": {
        "colab": {
          "base_uri": "https://localhost:8080/"
        },
        "id": "B763ffS-qJC5",
        "outputId": "df37df32-695c-45a7-9a4f-e37426dae333"
      },
      "execution_count": 4,
      "outputs": [
        {
          "output_type": "stream",
          "name": "stdout",
          "text": [
            "fish\n",
            "cat\n"
          ]
        }
      ]
    },
    {
      "cell_type": "code",
      "source": [
        "#modifying\n",
        "animals = [\"dog\",\"cat\",\"fish\"]\n",
        "animals[0]= \"bird\"\n",
        "print (animals)"
      ],
      "metadata": {
        "colab": {
          "base_uri": "https://localhost:8080/"
        },
        "id": "SQVGQA3CqJzK",
        "outputId": "5872268b-2a01-41b1-c13e-4ec97498917d"
      },
      "execution_count": 5,
      "outputs": [
        {
          "output_type": "stream",
          "name": "stdout",
          "text": [
            "['bird', 'cat', 'fish']\n"
          ]
        }
      ]
    },
    {
      "cell_type": "code",
      "source": [
        "#inserting array elements \n",
        "animals = [\"dog\",\"cat\",\"fish\"]\n",
        "animals.append(\"monkey\")\n",
        "print (animals)"
      ],
      "metadata": {
        "colab": {
          "base_uri": "https://localhost:8080/"
        },
        "id": "M9jU_CxQqMR_",
        "outputId": "e7dc71b5-8134-41d1-eb4d-2a107f1d2e79"
      },
      "execution_count": 6,
      "outputs": [
        {
          "output_type": "stream",
          "name": "stdout",
          "text": [
            "['dog', 'cat', 'fish', 'monkey']\n"
          ]
        }
      ]
    },
    {
      "cell_type": "code",
      "source": [
        "#removing\n",
        "animals = [\"dog\",\"cat\",\"fish\"]\n",
        "animals.pop(2)\n",
        "animals.pop(1)\n",
        "print(animals)"
      ],
      "metadata": {
        "colab": {
          "base_uri": "https://localhost:8080/"
        },
        "id": "tlFvqxFxqQSl",
        "outputId": "9511ed60-ec2c-4fea-a42d-cbd7ab9ec6a2"
      },
      "execution_count": 7,
      "outputs": [
        {
          "output_type": "stream",
          "name": "stdout",
          "text": [
            "['dog']\n"
          ]
        }
      ]
    },
    {
      "cell_type": "code",
      "source": [
        "#lenght of the array\n",
        "animals = [\"dog\",\"cat\",\"fish\"]\n",
        "x=len(animals)\n",
        "print(animals)"
      ],
      "metadata": {
        "colab": {
          "base_uri": "https://localhost:8080/"
        },
        "id": "pdZ_bwpNqSsU",
        "outputId": "9a454a55-feb1-472f-9f86-ffce290fa421"
      },
      "execution_count": 8,
      "outputs": [
        {
          "output_type": "stream",
          "name": "stdout",
          "text": [
            "['dog', 'cat', 'fish']\n"
          ]
        }
      ]
    },
    {
      "cell_type": "code",
      "source": [
        "import numpy as np\n",
        "num = np.array([[1,2],[3,4]])   \n",
        "print (num)"
      ],
      "metadata": {
        "colab": {
          "base_uri": "https://localhost:8080/"
        },
        "id": "Yi9waK-4qTlR",
        "outputId": "dfec063b-d5c4-43b7-92f2-b7698ebeb5e6"
      },
      "execution_count": 9,
      "outputs": [
        {
          "output_type": "stream",
          "name": "stdout",
          "text": [
            "[[1 2]\n",
            " [3 4]]\n"
          ]
        }
      ]
    }
  ]
}