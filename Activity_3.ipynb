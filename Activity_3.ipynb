{
  "nbformat": 4,
  "nbformat_minor": 0,
  "metadata": {
    "colab": {
      "provenance": [],
      "collapsed_sections": [],
      "authorship_tag": "ABX9TyPqV6UXBXU7DhFSx1YNDVYW",
      "include_colab_link": true
    },
    "kernelspec": {
      "name": "python3",
      "display_name": "Python 3"
    },
    "language_info": {
      "name": "python"
    }
  },
  "cells": [
    {
      "cell_type": "markdown",
      "metadata": {
        "id": "view-in-github",
        "colab_type": "text"
      },
      "source": [
        "<a href=\"https://colab.research.google.com/github/AldrichRenzoBelen/DSA-58010/blob/main/Activity_3.ipynb\" target=\"_parent\"><img src=\"https://colab.research.google.com/assets/colab-badge.svg\" alt=\"Open In Colab\"/></a>"
      ]
    },
    {
      "cell_type": "markdown",
      "source": [
        "# **Original code**"
      ],
      "metadata": {
        "id": "oYJ3gTlhJsXc"
      }
    },
    {
      "cell_type": "code",
      "execution_count": null,
      "metadata": {
        "colab": {
          "base_uri": "https://localhost:8080/"
        },
        "id": "tp3t6jThsvQe",
        "outputId": "3be68615-3ff3-4f1f-be9c-1371ae6291c4"
      },
      "outputs": [
        {
          "output_type": "stream",
          "name": "stdout",
          "text": [
            "Pushed Element: 1\n",
            "Pushed Element: 2\n",
            "Pushed Element: 3\n",
            "Pushed Element: 4\n",
            "Pushed Element: 5\n",
            "The elements in the stack are:['1', '2', '3', '4', '5']\n"
          ]
        }
      ],
      "source": [
        "# Stack implementation in python\n",
        "\n",
        "\n",
        "# Creating a stack\n",
        "def create_stack():\n",
        "    stack = []\n",
        "    return stack\n",
        "\n",
        "\n",
        "# Creating an empty stack\n",
        "def is_empty(stack):\n",
        "    return len(stack) == 0\n",
        "\n",
        "\n",
        "# Adding items into the stack\n",
        "def push(stack, item):\n",
        "    stack.append(item)\n",
        "    print(\"Pushed Element: \" + item)\n",
        "\n",
        "\n",
        "# Removing an element from the stack\n",
        "def pop(stack):\n",
        "    if (is_empty(stack)):\n",
        "        return \"The stack is empty\"\n",
        "    return stack.pop()\n",
        "\n",
        "\n",
        "stack = create_stack()\n",
        "push(stack, str(1))\n",
        "push(stack, str(2))\n",
        "push(stack, str(3))\n",
        "push(stack, str(4))\n",
        "push(stack, str(5))\n",
        "\n",
        "print(\"The elements in the stack are:\"+ str(stack))"
      ]
    },
    {
      "cell_type": "markdown",
      "source": [
        "# **Revised code**"
      ],
      "metadata": {
        "id": "gu_BvTLoJ30d"
      }
    },
    {
      "cell_type": "code",
      "source": [
        "# Stack implementation in python\n",
        "\n",
        "\n",
        "# Creating a stack\n",
        "def create_stack():\n",
        "    stack = []\n",
        "    return stack\n",
        "\n",
        "\n",
        "# Creating an empty stack\n",
        "def is_empty(stack):\n",
        "    return len(stack) == 0\n",
        "\n",
        "\n",
        "# Adding items into the stack\n",
        "def push(stack, item):\n",
        "    stack.append(item)\n",
        "    print(\"Pushed Element: \" + item)\n",
        "\n",
        "\n",
        "# Removing an element from the stack\n",
        "def pop(stack):\n",
        "    if (is_empty(stack)):\n",
        "        return \"The stack is empty\"\n",
        "    return stack.pop()\n",
        "\n",
        "\n",
        "stack = create_stack()\n",
        "push(stack, str(1))\n",
        "push(stack, str(2))\n",
        "push(stack, str(3))\n",
        "push(stack, str(4))\n",
        "push(stack, str(5))\n",
        "\n",
        "stack.pop(0)      # No.3) pop 3 elements from the top of the stack, I used zero in all of them to pop the first 3 elements\n",
        "stack.pop(0)\n",
        "stack.pop(0)\n",
        "\n",
        "Length = len(stack)       # No. 4) determining the length of the stack using this \n",
        "print(\"The elements in the stack are: \"+ str(stack))\n",
        "print(\"The length of the stack is: \", Length)"
      ],
      "metadata": {
        "colab": {
          "base_uri": "https://localhost:8080/"
        },
        "id": "e4LYTRh6CrC6",
        "outputId": "f4d7d6dc-4694-4fa2-fe42-571d8e7f624a"
      },
      "execution_count": 22,
      "outputs": [
        {
          "output_type": "stream",
          "name": "stdout",
          "text": [
            "Pushed Element: 1\n",
            "Pushed Element: 2\n",
            "Pushed Element: 3\n",
            "Pushed Element: 4\n",
            "Pushed Element: 5\n",
            "The elements in the stack are: ['4', '5']\n",
            "The length of the stack is:  2\n"
          ]
        }
      ]
    }
  ]
}