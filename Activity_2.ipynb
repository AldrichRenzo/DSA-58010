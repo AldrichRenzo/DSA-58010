{
  "nbformat": 4,
  "nbformat_minor": 0,
  "metadata": {
    "colab": {
      "provenance": [],
      "collapsed_sections": [],
      "authorship_tag": "ABX9TyNXrVQ7yUHE1i6U2unz8qhj",
      "include_colab_link": true
    },
    "kernelspec": {
      "name": "python3",
      "display_name": "Python 3"
    },
    "language_info": {
      "name": "python"
    }
  },
  "cells": [
    {
      "cell_type": "markdown",
      "metadata": {
        "id": "view-in-github",
        "colab_type": "text"
      },
      "source": [
        "<a href=\"https://colab.research.google.com/github/AldrichRenzoBelen/DSA-58010/blob/main/Activity_2.ipynb\" target=\"_parent\"><img src=\"https://colab.research.google.com/assets/colab-badge.svg\" alt=\"Open In Colab\"/></a>"
      ]
    },
    {
      "cell_type": "markdown",
      "source": [
        "Write a Python program to create a singly linked list of prime numbers less than 20. By iterating through the list, display all the prime numbers, the head, and the tail of the list."
      ],
      "metadata": {
        "id": "c8xsmf7KXm1q"
      }
    },
    {
      "cell_type": "code",
      "execution_count": 9,
      "metadata": {
        "colab": {
          "base_uri": "https://localhost:8080/"
        },
        "id": "Q3rI-mvJXleo",
        "outputId": "1e589e91-8fc7-483a-9fb2-90fb6bc3caee"
      },
      "outputs": [
        {
          "output_type": "stream",
          "name": "stdout",
          "text": [
            "2\n",
            "3\n",
            "5\n",
            "7\n",
            "11\n",
            "13\n",
            "17\n",
            "19\n"
          ]
        }
      ],
      "source": [
        "class Prime:\n",
        "  def __init__(self,data):\n",
        "    self.data = data\n",
        "    self.next = None\n",
        "\n",
        "class LinkedList:\n",
        "  def __init__(self):\n",
        "    self.head = None\n",
        "  def printLinkedList(self):\n",
        "    temp = self.head\n",
        "    while(temp):\n",
        "      print(temp.data)\n",
        "      temp = temp.next\n",
        "\n",
        "\n",
        "llist = LinkedList()\n",
        "\n",
        "llist.head = Prime(\"2\")\n",
        "II = Prime(\"3\")\n",
        "III = Prime(\"5\")\n",
        "IV = Prime(\"7\")\n",
        "V = Prime(\"11\")\n",
        "VI = Prime(\"13\")\n",
        "VII = Prime(\"17\")\n",
        "llist.tail = Prime(\"19\")\n",
        "\n",
        "llist.head.next = II\n",
        "II.next = III\n",
        "III.next = IV\n",
        "IV.next = V\n",
        "V.next = VI\n",
        "VI.next = VII\n",
        "VII.next = llist.tail\n",
        "\n",
        "llist.printLinkedList()"
      ]
    }
  ]
}