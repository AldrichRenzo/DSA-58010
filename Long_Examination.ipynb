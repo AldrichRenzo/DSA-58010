{
  "nbformat": 4,
  "nbformat_minor": 0,
  "metadata": {
    "colab": {
      "provenance": [],
      "collapsed_sections": [],
      "authorship_tag": "ABX9TyMML8DFnYfx2ldhhOKGghUf",
      "include_colab_link": true
    },
    "kernelspec": {
      "name": "python3",
      "display_name": "Python 3"
    },
    "language_info": {
      "name": "python"
    }
  },
  "cells": [
    {
      "cell_type": "markdown",
      "metadata": {
        "id": "view-in-github",
        "colab_type": "text"
      },
      "source": [
        "<a href=\"https://colab.research.google.com/github/AldrichRenzoBelen/DSA-58010/blob/main/Long_Examination.ipynb\" target=\"_parent\"><img src=\"https://colab.research.google.com/assets/colab-badge.svg\" alt=\"Open In Colab\"/></a>"
      ]
    },
    {
      "cell_type": "code",
      "execution_count": 23,
      "metadata": {
        "colab": {
          "base_uri": "https://localhost:8080/"
        },
        "id": "at1I1TKwLWXk",
        "outputId": "2856ea17-16e6-4835-ea43-ad297b7ba02c"
      },
      "outputs": [
        {
          "output_type": "stream",
          "name": "stdout",
          "text": [
            "Full Name:  ['A', 'l', 'd', 'r', 'i', 'c', 'h', 'R', 'e', 'n', 'z', 'o', 'B', 'e', 'l', 'e', 'n']\n",
            "Reversed Full Name:  ['n', 'e', 'l', 'e', 'B', 'o', 'z', 'n', 'e', 'R', 'h', 'c', 'i', 'r', 'd', 'l', 'A']\n"
          ]
        }
      ],
      "source": [
        "arr = ['A','l','d','r','i','c','h','R','e','n','z','o','B','e','l','e','n']\n",
        "print(\"Full Name: \",arr)\n",
        "\n",
        "res = arr[::-1]\n",
        "print(\"Reversed Full Name: \",res)"
      ]
    }
  ]
}