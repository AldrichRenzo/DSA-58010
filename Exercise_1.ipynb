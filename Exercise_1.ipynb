{
  "nbformat": 4,
  "nbformat_minor": 0,
  "metadata": {
    "colab": {
      "name": "Exercise 1.ipynb",
      "provenance": [],
      "collapsed_sections": [],
      "authorship_tag": "ABX9TyPLey28VnwnDDd4NbBVZQ7z",
      "include_colab_link": true
    },
    "kernelspec": {
      "name": "python3",
      "display_name": "Python 3"
    },
    "language_info": {
      "name": "python"
    }
  },
  "cells": [
    {
      "cell_type": "markdown",
      "metadata": {
        "id": "view-in-github",
        "colab_type": "text"
      },
      "source": [
        "<a href=\"https://colab.research.google.com/github/AldrichRenzoBelen/DSA-58010/blob/main/Exercise_1.ipynb\" target=\"_parent\"><img src=\"https://colab.research.google.com/assets/colab-badge.svg\" alt=\"Open In Colab\"/></a>"
      ]
    },
    {
      "cell_type": "code",
      "execution_count": 2,
      "metadata": {
        "colab": {
          "base_uri": "https://localhost:8080/"
        },
        "id": "SuquvyX6Tg1a",
        "outputId": "9ec453f2-6b25-499e-9e5c-eb2f4f2b5bd6"
      },
      "outputs": [
        {
          "output_type": "stream",
          "name": "stdout",
          "text": [
            "3\n",
            "The area of the circle is 28.26\n"
          ]
        }
      ],
      "source": [
        "class Circle():\n",
        "  def __init__ (self, radius):\n",
        "    self.radius = int (radius)\n",
        "  \n",
        "  def Area (self):\n",
        "    return pi * (self.radius ** 2)\n",
        "\n",
        "  def display (self):\n",
        "    print (\"The area of the circle is\", self.Area())\n",
        "\n",
        "pi = 3.14\n",
        "pizza = Circle (input())\n",
        "pizza.display()"
      ]
    },
    {
      "cell_type": "code",
      "source": [
        "class Circle():\n",
        "  def __init__ (self, diameter):\n",
        "    self.diameter = int (diameter)\n",
        "  \n",
        "  def Area (self):\n",
        "    return pi * ((self.diameter / 2) ** 2)\n",
        "\n",
        "  def display (self):\n",
        "    print (\"The area of the circle is\", self.Area())\n",
        "\n",
        "pi = 3.14\n",
        "pizza = Circle (input())\n",
        "pizza.display()"
      ],
      "metadata": {
        "colab": {
          "base_uri": "https://localhost:8080/"
        },
        "id": "wV3wNEWjVqXs",
        "outputId": "09060292-7ef4-4eca-c9e1-55f4d4460fac"
      },
      "execution_count": 6,
      "outputs": [
        {
          "output_type": "stream",
          "name": "stdout",
          "text": [
            "6\n",
            "The area of the circle is 28.26\n"
          ]
        }
      ]
    }
  ]
}