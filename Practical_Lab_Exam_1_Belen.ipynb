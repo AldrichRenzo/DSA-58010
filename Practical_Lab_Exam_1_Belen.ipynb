{
  "nbformat": 4,
  "nbformat_minor": 0,
  "metadata": {
    "colab": {
      "name": "Practical Lab Exam_1_Belen.ipynb",
      "provenance": [],
      "collapsed_sections": [],
      "authorship_tag": "ABX9TyODSmaRL4psUD26mqy6wB0c",
      "include_colab_link": true
    },
    "kernelspec": {
      "name": "python3",
      "display_name": "Python 3"
    },
    "language_info": {
      "name": "python"
    }
  },
  "cells": [
    {
      "cell_type": "markdown",
      "metadata": {
        "id": "view-in-github",
        "colab_type": "text"
      },
      "source": [
        "<a href=\"https://colab.research.google.com/github/AldrichRenzoBelen/DSA-58010/blob/main/Practical_Lab_Exam_1_Belen.ipynb\" target=\"_parent\"><img src=\"https://colab.research.google.com/assets/colab-badge.svg\" alt=\"Open In Colab\"/></a>"
      ]
    },
    {
      "cell_type": "code",
      "source": [
        "list1 = [26,49,98,87,62,75]\n",
        "\n",
        "only_even = [num for num in list1 if num % 2 == 0]\n",
        "res = sum(only_even)\n",
        "\n",
        "print(\"Even Numbers are:\",only_even)\n",
        "print(\"The Sum of the even numbers is\", res)"
      ],
      "metadata": {
        "colab": {
          "base_uri": "https://localhost:8080/"
        },
        "id": "s308mauHb6h7",
        "outputId": "80b50a8f-d47c-43bd-ec02-7b4cf782a445"
      },
      "execution_count": 4,
      "outputs": [
        {
          "output_type": "stream",
          "name": "stdout",
          "text": [
            "Even Numbers are: [26, 98, 62]\n",
            "The Sum of the even numbers is 186\n"
          ]
        }
      ]
    }
  ]
}